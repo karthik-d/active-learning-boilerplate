{
  "cells": [
    {
      "cell_type": "code",
      "execution_count": 1,
      "metadata": {
        "colab": {
          "base_uri": "https://localhost:8080/"
        },
        "id": "3IunuOi-f89_",
        "outputId": "6bb9cf51-cf95-44b6-e487-d12fb67d2a90"
      },
      "outputs": [
        {
          "output_type": "stream",
          "name": "stdout",
          "text": [
            "Mounted at /content/drive\n"
          ]
        }
      ],
      "source": [
        "from google.colab import drive\n",
        "drive.mount('/content/drive')"
      ]
    },
    {
      "cell_type": "code",
      "execution_count": 2,
      "metadata": {
        "id": "iaE2ApPA_Gw9",
        "scrolled": true,
        "colab": {
          "base_uri": "https://localhost:8080/"
        },
        "outputId": "15bb6f82-9a69-451b-9821-754a3e07b8d0"
      },
      "outputs": [
        {
          "output_type": "stream",
          "name": "stdout",
          "text": [
            "Looking in indexes: https://pypi.org/simple, https://us-python.pkg.dev/colab-wheels/public/simple/\n",
            "Collecting keras-layer-normalization\n",
            "  Downloading keras-layer-normalization-0.16.0.tar.gz (3.9 kB)\n",
            "  Preparing metadata (setup.py) ... \u001b[?25l\u001b[?25hdone\n",
            "Requirement already satisfied: numpy in /usr/local/lib/python3.9/dist-packages (from keras-layer-normalization) (1.22.4)\n",
            "Building wheels for collected packages: keras-layer-normalization\n",
            "  Building wheel for keras-layer-normalization (setup.py) ... \u001b[?25l\u001b[?25hdone\n",
            "  Created wheel for keras-layer-normalization: filename=keras_layer_normalization-0.16.0-py3-none-any.whl size=4666 sha256=5a6655141e48db53fcf9cf4953ef4db1456918b3836a5d11025169c16eb6ab3e\n",
            "  Stored in directory: /root/.cache/pip/wheels/c1/df/15/a88cdf68ce687574649f65063a743123e1bee79932b6eea3b6\n",
            "Successfully built keras-layer-normalization\n",
            "Installing collected packages: keras-layer-normalization\n",
            "Successfully installed keras-layer-normalization-0.16.0\n"
          ]
        }
      ],
      "source": [
        "!pip install keras-layer-normalization"
      ]
    },
    {
      "cell_type": "code",
      "execution_count": 3,
      "metadata": {
        "id": "_gvmsq9XgcoJ"
      },
      "outputs": [],
      "source": [
        "class Config:\n",
        "  DATASET_PATH =\"/content/drive/MyDrive/Research/secondary/Anomaly-Detection_Divya/Avenue_Dataset/Train\"\n",
        "  TEST_PATH = \"/content/drive/MyDrive/Research/secondary/Anomaly-Detection_Divya/Avenue_Dataset/testing_videos\"\n",
        "  SAMPLE_TRAIN_PATH = \"/content/drive/MyDrive/Research/secondary/Anomaly-Detection_Divya/Avenue_Dataset/sample_train\"\n",
        "  BATCH_SIZE = 4\n",
        "  EPOCHS = 10\n",
        "  MODEL_PATH = \"/content/drive/MyDrive/Research/secondary/Anomaly-Detection_Divya/Avenue_Dataset/Train/model50.hdf5\""
      ]
    },
    {
      "cell_type": "code",
      "execution_count": 4,
      "metadata": {
        "id": "bRSdhRUCggkU"
      },
      "outputs": [],
      "source": [
        "import os\n",
        "from os import listdir\n",
        "from os.path import isfile, join, isdir\n",
        "from PIL import Image\n",
        "import numpy as np\n",
        "import shelve\n",
        "def get_clips_by_stride(stride, frames_list, sequence_size):\n",
        "    clips = []\n",
        "    sz = len(frames_list)\n",
        "    clip = np.zeros(shape=(sequence_size, 256, 256, 1))\n",
        "    cnt = 0\n",
        "    for start in range(0, stride):\n",
        "        for i in range(start, sz, stride):\n",
        "            clip[cnt, :, :, 0] = frames_list[i]\n",
        "            cnt = cnt + 1\n",
        "            if cnt == sequence_size:\n",
        "                clips.append(np.copy(clip))\n",
        "                cnt = 0\n",
        "    return clips\n",
        "\n",
        "\n",
        "def get_training_set():\n",
        "    \n",
        "    clips = []\n",
        "    errors = []\n",
        "    # loop over the training folders (Train000,Train001,..)\n",
        "    for f in sorted(listdir(Config.SAMPLE_TRAIN_PATH)):\n",
        "        if isdir(join(Config.SAMPLE_TRAIN_PATH, f)):\n",
        "            all_frames = []\n",
        "            # loop over all the images in the folder (0.tif,1.tif,..,199.tif)\n",
        "            for c in sorted(listdir(join(Config.SAMPLE_TRAIN_PATH, f))):\n",
        "                #print(c)\n",
        "                if str(join(join(Config.SAMPLE_TRAIN_PATH, f), c))[-4:] == \".tif\":\n",
        "                #if str(join(join(Config.SAMPLE_TRAIN_PATH, f), c))[-3:] == \"tif\":\n",
        "                    #print(\"true\")\n",
        "                    try:\n",
        "                      img = Image.open(join(join(Config.SAMPLE_TRAIN_PATH, f), c)).resize((256, 256))\n",
        "                      img = np.array(img, dtype=np.float32) / 256.0\n",
        "                      all_frames.append(img)\n",
        "                    except OSError:\n",
        "                      errors.append(join(join(Config.SAMPLE_TRAIN_PATH, f), c))\n",
        "                      continue\n",
        "           # get the 10-frames sequences from the list of images after applying data augmentation\n",
        "            for stride in range(1, 4):\n",
        "            #for stride in range(1, 3):\n",
        "                clips.extend(get_clips_by_stride(stride=stride, frames_list=all_frames, sequence_size=10))\n",
        "                print(f\"{len(clips)} done.\")\n",
        "    print(\"[ERROR FILES]\")\n",
        "    for k in errors:\n",
        "      print(k)\n",
        "    return clips   "
      ]
    },
    {
      "cell_type": "code",
      "execution_count": 5,
      "metadata": {
        "id": "6layeutJcev_"
      },
      "outputs": [],
      "source": [
        "import keras\n",
        "import numpy as np\n",
        "from keras.layers import Conv2DTranspose, ConvLSTM2D, BatchNormalization, TimeDistributed, Conv2D, LayerNormalization\n",
        "from keras.models import Sequential, load_model\n",
        "from keras.layers import Dense\n",
        "def get_model(reload_model=True):\n",
        "    print(reload_model) \n",
        "    if not reload_model:\n",
        "        return load_model(Config.MODEL_PATH,custom_objects={'LayerNormalization': LayerNormalization})\n",
        "    \n",
        "    print(\"Loading Training Set...\")\n",
        "    training_set = get_training_set()\n",
        "    training_set = np.array(training_set)\n",
        "    training_set = training_set.reshape(-1,10,256,256,1)\n",
        "    print(training_set.shape)\n",
        "    print(\"Training set loaded\")\n",
        "    \n",
        "    seq = Sequential()\n",
        "    seq.add(TimeDistributed(Conv2D(128, (11, 11), strides=4, padding=\"same\"), batch_input_shape=(None, 10, 256, 256, 1)))\n",
        "    seq.add(LayerNormalization())\n",
        "    seq.add(TimeDistributed(Conv2D(64, (5, 5), strides=2, padding=\"same\")))\n",
        "    seq.add(LayerNormalization())\n",
        "    # # # # #\n",
        "    seq.add(ConvLSTM2D(64, (3, 3), padding=\"same\", return_sequences=True))\n",
        "    seq.add(LayerNormalization())\n",
        "    seq.add(ConvLSTM2D(32, (3, 3), padding=\"same\", return_sequences=True))\n",
        "    seq.add(LayerNormalization())\n",
        "    seq.add(ConvLSTM2D(64, (3, 3), padding=\"same\", return_sequences=True))\n",
        "    seq.add(LayerNormalization())\n",
        "    # # # # #\n",
        "    seq.add(TimeDistributed(Conv2DTranspose(64, (5, 5), strides=2, padding=\"same\")))\n",
        "    seq.add(LayerNormalization())\n",
        "    seq.add(TimeDistributed(Conv2DTranspose(128, (11, 11), strides=4, padding=\"same\")))\n",
        "    seq.add(LayerNormalization())\n",
        "    seq.add(TimeDistributed(Conv2D(1, (11, 11), activation=\"sigmoid\", padding=\"same\")))\n",
        "    \n",
        "    seq.summary()\n",
        "    seq.compile(loss='mse', optimizer=keras.optimizers.Adam(lr=1e-4, decay=1e-5, epsilon=1e-6), run_eagerly=True)    \n",
        "    seq.fit(training_set, training_set, batch_size=Config.BATCH_SIZE, epochs=Config.EPOCHS, shuffle=True)\n",
        "    seq.save(Config.MODEL_PATH)\n",
        "    \n",
        "    return seq"
      ]
    },
    {
      "cell_type": "code",
      "source": [
        "model = get_model()"
      ],
      "metadata": {
        "colab": {
          "base_uri": "https://localhost:8080/"
        },
        "id": "f1li6i_vZlvC",
        "outputId": "f0e8b5d4-a495-4fa0-f1df-a219c4eeda14"
      },
      "execution_count": 6,
      "outputs": [
        {
          "output_type": "stream",
          "name": "stdout",
          "text": [
            "True\n",
            "Loading Training Set...\n",
            "1 done.\n",
            "2 done.\n",
            "3 done.\n",
            "4 done.\n",
            "5 done.\n",
            "6 done.\n",
            "7 done.\n",
            "8 done.\n",
            "9 done.\n",
            "10 done.\n",
            "11 done.\n",
            "12 done.\n",
            "[ERROR FILES]\n",
            "(12, 10, 256, 256, 1)\n",
            "Training set loaded\n",
            "Model: \"sequential\"\n",
            "_________________________________________________________________\n",
            " Layer (type)                Output Shape              Param #   \n",
            "=================================================================\n",
            " time_distributed (TimeDistr  (None, 10, 64, 64, 128)  15616     \n",
            " ibuted)                                                         \n",
            "                                                                 \n",
            " layer_normalization (LayerN  (None, 10, 64, 64, 128)  256       \n",
            " ormalization)                                                   \n",
            "                                                                 \n",
            " time_distributed_1 (TimeDis  (None, 10, 32, 32, 64)   204864    \n",
            " tributed)                                                       \n",
            "                                                                 \n",
            " layer_normalization_1 (Laye  (None, 10, 32, 32, 64)   128       \n",
            " rNormalization)                                                 \n",
            "                                                                 \n",
            " conv_lstm2d (ConvLSTM2D)    (None, 10, 32, 32, 64)    295168    \n",
            "                                                                 \n",
            " layer_normalization_2 (Laye  (None, 10, 32, 32, 64)   128       \n",
            " rNormalization)                                                 \n",
            "                                                                 \n",
            " conv_lstm2d_1 (ConvLSTM2D)  (None, 10, 32, 32, 32)    110720    \n",
            "                                                                 \n",
            " layer_normalization_3 (Laye  (None, 10, 32, 32, 32)   64        \n",
            " rNormalization)                                                 \n",
            "                                                                 \n",
            " conv_lstm2d_2 (ConvLSTM2D)  (None, 10, 32, 32, 64)    221440    \n",
            "                                                                 \n",
            " layer_normalization_4 (Laye  (None, 10, 32, 32, 64)   128       \n",
            " rNormalization)                                                 \n",
            "                                                                 \n",
            " time_distributed_2 (TimeDis  (None, 10, 64, 64, 64)   102464    \n",
            " tributed)                                                       \n",
            "                                                                 \n",
            " layer_normalization_5 (Laye  (None, 10, 64, 64, 64)   128       \n",
            " rNormalization)                                                 \n",
            "                                                                 \n",
            " time_distributed_3 (TimeDis  (None, 10, 256, 256, 128  991360   \n",
            " tributed)                   )                                   \n",
            "                                                                 \n",
            " layer_normalization_6 (Laye  (None, 10, 256, 256, 128  256      \n",
            " rNormalization)             )                                   \n",
            "                                                                 \n",
            " time_distributed_4 (TimeDis  (None, 10, 256, 256, 1)  15489     \n",
            " tributed)                                                       \n",
            "                                                                 \n",
            "=================================================================\n",
            "Total params: 1,958,209\n",
            "Trainable params: 1,958,209\n",
            "Non-trainable params: 0\n",
            "_________________________________________________________________\n"
          ]
        },
        {
          "output_type": "stream",
          "name": "stderr",
          "text": [
            "/usr/local/lib/python3.9/dist-packages/keras/optimizers/optimizer_v2/adam.py:117: UserWarning: The `lr` argument is deprecated, use `learning_rate` instead.\n",
            "  super().__init__(name, **kwargs)\n"
          ]
        },
        {
          "output_type": "stream",
          "name": "stdout",
          "text": [
            "Epoch 1/10\n",
            "3/3 [==============================] - 35s 2s/step - loss: 0.1179\n",
            "Epoch 2/10\n",
            "3/3 [==============================] - 7s 2s/step - loss: 0.0869\n",
            "Epoch 3/10\n",
            "3/3 [==============================] - 7s 2s/step - loss: 0.0754\n",
            "Epoch 4/10\n",
            "3/3 [==============================] - 7s 2s/step - loss: 0.0696\n",
            "Epoch 5/10\n",
            "3/3 [==============================] - 7s 2s/step - loss: 0.0631\n",
            "Epoch 6/10\n",
            "3/3 [==============================] - 7s 2s/step - loss: 0.0559\n",
            "Epoch 7/10\n",
            "3/3 [==============================] - 7s 2s/step - loss: 0.0487\n",
            "Epoch 8/10\n",
            "3/3 [==============================] - 7s 2s/step - loss: 0.0545\n",
            "Epoch 9/10\n",
            "3/3 [==============================] - 7s 2s/step - loss: 0.0380\n",
            "Epoch 10/10\n",
            "3/3 [==============================] - 7s 2s/step - loss: 0.0344\n"
          ]
        }
      ]
    },
    {
      "cell_type": "code",
      "execution_count": 7,
      "metadata": {
        "id": "BCRMJnkvsIdX"
      },
      "outputs": [],
      "source": [
        "def get_test():\n",
        "    sz = 200\n",
        "    test = np.zeros(shape=(sz, 256, 256, 1))\n",
        "    cnt = 0\n",
        "    for f in sorted(listdir(Config.TEST_PATH)):\n",
        "        if str(join(Config.TEST_PATH, f))[-4:] == \".tif\":\n",
        "            img = Image.open(join(Config.TEST_PATH, f)).resize((256, 256))\n",
        "            img = np.array(img, dtype=np.float32) / 256.0\n",
        "            test[cnt, :, :, 0] = img\n",
        "            cnt = cnt + 1\n",
        "    return test\n"
      ]
    },
    {
      "cell_type": "code",
      "execution_count": 8,
      "metadata": {
        "id": "240Ill9al30k"
      },
      "outputs": [],
      "source": [
        "import matplotlib.pyplot as plt\n",
        "\n",
        "def evaluate():\n",
        "    model = get_model(False)\n",
        "    #print(\"got model\")\n",
        "    test = get_test()\n",
        "    print(test.shape)\n",
        "    sz = test.shape[0] - 10 + 1\n",
        "    sequences = np.zeros((sz, 10, 256, 256, 1))\n",
        "    # apply the sliding window technique to get the sequences\n",
        "    for i in range(0, sz):\n",
        "        clip = np.zeros((10, 256, 256, 1))\n",
        "        for j in range(0, 10):\n",
        "            clip[j] = test[i + j, :, :, :]\n",
        "        sequences[i] = clip\n",
        "\n",
        "    print(\"got data\")\n",
        "    # get the reconstruction cost of all the sequences\n",
        "    reconstructed_sequences = model.predict(sequences,batch_size=4)\n",
        "    sequences_reconstruction_cost = np.array([np.linalg.norm(np.subtract(sequences[i],reconstructed_sequences[i])) for i in range(0,sz)])\n",
        "    sa = (sequences_reconstruction_cost - np.min(sequences_reconstruction_cost)) / np.max(sequences_reconstruction_cost)\n",
        "    sr = 1.0 - sa\n",
        "    print(sequences_reconstruction_cost)\n",
        "    # plot the regularity scores\n",
        "    plt.plot(sr)\n",
        "    plt.ylabel('regularity score Sr(t)')\n",
        "    plt.xlabel('frame t')\n",
        "    plt.show()\n"
      ]
    },
    {
      "cell_type": "code",
      "execution_count": 9,
      "metadata": {
        "id": "W1pSFLqrhdAi",
        "colab": {
          "base_uri": "https://localhost:8080/",
          "height": 1000
        },
        "outputId": "d2d64110-effe-4661-ca6d-365b597e42c0"
      },
      "outputs": [
        {
          "output_type": "stream",
          "name": "stdout",
          "text": [
            "False\n",
            "(200, 256, 256, 1)\n",
            "got data\n",
            "48/48 [==============================] - 30s 626ms/step\n",
            "[102.86842433 102.8684245  102.8684245  102.8684242  102.86842413\n",
            " 102.86842425 102.86842428 102.86842447 102.8684243  102.86842398\n",
            " 102.86842424 102.86842408 102.86842429 102.86842437 102.86842397\n",
            " 102.86842398 102.8684238  102.86842432 102.86842414 102.86842429\n",
            " 102.86842406 102.86842421 102.86842388 102.86842413 102.86842421\n",
            " 102.86842392 102.86842404 102.86842422 102.86842453 102.86842424\n",
            " 102.86842406 102.86842401 102.86842449 102.86842399 102.86842438\n",
            " 102.86842449 102.86842424 102.86842475 102.86842425 102.86842428\n",
            " 102.86842446 102.86842411 102.86842409 102.86842429 102.86842433\n",
            " 102.86842425 102.86842425 102.86842431 102.86842438 102.86842424\n",
            " 102.86842393 102.86842364 102.86842414 102.86842397 102.8684243\n",
            " 102.86842415 102.86842448 102.86842423 102.86842385 102.86842432\n",
            " 102.86842422 102.86842378 102.86842428 102.86842405 102.86842433\n",
            " 102.86842415 102.86842429 102.86842414 102.86842422 102.86842441\n",
            " 102.86842427 102.8684241  102.86842431 102.86842415 102.8684241\n",
            " 102.86842416 102.86842424 102.86842432 102.86842422 102.8684242\n",
            " 102.86842393 102.868424   102.86842388 102.86842386 102.86842437\n",
            " 102.86842444 102.86842406 102.86842371 102.86842419 102.86842427\n",
            " 102.86842405 102.86842422 102.8684239  102.8684239  102.86842436\n",
            " 102.86842418 102.86842401 102.86842414 102.86842402 102.86842413\n",
            " 102.86842455 102.86842425 102.86842402 102.86842425 102.86842396\n",
            " 102.86842457 102.8684243  102.86842402 102.86842439 102.86842437\n",
            " 102.86842376 102.86842406 102.86842404 102.8684242  102.86842426\n",
            " 102.86842421 102.86842411 102.86842419 102.86842435 102.86842448\n",
            " 102.86842408 102.86842407 102.8684239  102.86842412 102.86842441\n",
            " 102.86842429 102.86842397 102.86842422 102.86842427 102.86842458\n",
            " 102.8684241  102.868424   102.86842397 102.86842416 102.86842425\n",
            " 102.86842422 102.86842422 102.86842415 102.86842436 102.8684242\n",
            " 102.86842446 102.86842438 102.86842431 102.8684243  102.86842424\n",
            " 102.86842417 102.86842389 102.86842407 102.86842411 102.86842429\n",
            " 102.86842411 102.86842389 102.86842418 102.86842425 102.86842442\n",
            " 102.86842385 102.86842391 102.86842385 102.86842392 102.8684242\n",
            " 102.86842415 102.86842429 102.8684239  102.86842395 102.86842422\n",
            " 102.86842407 102.86842437 102.86842401 102.86842392 102.86842418\n",
            " 102.86842432 102.86842437 102.86842414 102.86842394 102.86842442\n",
            " 102.86842434 102.86842408 102.86842389 102.86842405 102.86842426\n",
            " 102.86842427 102.86842414 102.86842434 102.86842425 102.86842399\n",
            " 102.86842473 102.8684241  102.86842418 102.86842577 102.86842555\n",
            " 102.86842543]\n"
          ]
        },
        {
          "output_type": "display_data",
          "data": {
            "text/plain": [
              "<Figure size 432x288 with 1 Axes>"
            ],
            "image/png": "[encoded data removed]"
          },
          "metadata": {
            "needs_background": "light"
          }
        }
      ],
      "source": [
        "evaluate()"
      ]
    }
  ],
  "metadata": {
    "colab": {
      "machine_shape": "hm",
      "provenance": []
    },
    "kernelspec": {
      "display_name": "Python 3",
      "language": "python",
      "name": "python3"
    },
    "language_info": {
      "codemirror_mode": {
        "name": "ipython",
        "version": 3
      },
      "file_extension": ".py",
      "mimetype": "text/x-python",
      "name": "python",
      "nbconvert_exporter": "python",
      "pygments_lexer": "ipython3",
      "version": "3.7.6"
    },
    "gpuClass": "standard",
    "accelerator": "GPU"
  },
  "nbformat": 4,
  "nbformat_minor": 0
}